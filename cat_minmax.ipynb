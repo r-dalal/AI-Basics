{
 "cells": [
  {
   "cell_type": "code",
   "execution_count": 3,
   "metadata": {},
   "outputs": [],
   "source": [
    "import pandas as pa\n",
    "import numpy as np\n",
    "from sklearn.preprocessing import MinMaxScaler "
   ]
  },
  {
   "cell_type": "code",
   "execution_count": 4,
   "metadata": {},
   "outputs": [
    {
     "data": {
      "text/html": [
       "<div>\n",
       "<style scoped>\n",
       "    .dataframe tbody tr th:only-of-type {\n",
       "        vertical-align: middle;\n",
       "    }\n",
       "\n",
       "    .dataframe tbody tr th {\n",
       "        vertical-align: top;\n",
       "    }\n",
       "\n",
       "    .dataframe thead th {\n",
       "        text-align: right;\n",
       "    }\n",
       "</style>\n",
       "<table border=\"1\" class=\"dataframe\">\n",
       "  <thead>\n",
       "    <tr style=\"text-align: right;\">\n",
       "      <th></th>\n",
       "      <th>height</th>\n",
       "      <th>weight</th>\n",
       "    </tr>\n",
       "  </thead>\n",
       "  <tbody>\n",
       "    <tr>\n",
       "      <th>0</th>\n",
       "      <td>5.5</td>\n",
       "      <td>51251</td>\n",
       "    </tr>\n",
       "    <tr>\n",
       "      <th>1</th>\n",
       "      <td>6.0</td>\n",
       "      <td>61911</td>\n",
       "    </tr>\n",
       "    <tr>\n",
       "      <th>2</th>\n",
       "      <td>5.8</td>\n",
       "      <td>69413</td>\n",
       "    </tr>\n",
       "    <tr>\n",
       "      <th>3</th>\n",
       "      <td>5.7</td>\n",
       "      <td>64564</td>\n",
       "    </tr>\n",
       "    <tr>\n",
       "      <th>4</th>\n",
       "      <td>5.6</td>\n",
       "      <td>65453</td>\n",
       "    </tr>\n",
       "  </tbody>\n",
       "</table>\n",
       "</div>"
      ],
      "text/plain": [
       "   height  weight\n",
       "0     5.5   51251\n",
       "1     6.0   61911\n",
       "2     5.8   69413\n",
       "3     5.7   64564\n",
       "4     5.6   65453"
      ]
     },
     "execution_count": 4,
     "metadata": {},
     "output_type": "execute_result"
    }
   ],
   "source": [
    "names = ['height','weight'] \n",
    "\n",
    "dataframe =pa.read_csv(r\"C:\\Users\\riyam\\OneDrive - vit.ac.in\\SEMESTER 5\\AI\\LAB\\EXPERIMENT 1\\data.csv\", names=names) \n",
    "dataframe.head() "
   ]
  },
  {
   "cell_type": "code",
   "execution_count": 5,
   "metadata": {},
   "outputs": [
    {
     "data": {
      "text/plain": [
       "array([[5.5000e+00, 5.1251e+04],\n",
       "       [6.0000e+00, 6.1911e+04],\n",
       "       [5.8000e+00, 6.9413e+04],\n",
       "       [5.7000e+00, 6.4564e+04],\n",
       "       [5.6000e+00, 6.5453e+04],\n",
       "       [5.7000e+00, 5.5928e+04],\n",
       "       [5.8000e+00, 6.4179e+04],\n",
       "       [5.8000e+00, 6.1897e+04],\n",
       "       [5.7000e+00, 5.0970e+04],\n",
       "       [5.6000e+00, 5.4735e+04],\n",
       "       [5.5000e+00, 5.7810e+04],\n",
       "       [5.6000e+00, 5.1773e+04],\n",
       "       [5.7000e+00, 5.6976e+04],\n",
       "       [5.6000e+00, 5.5547e+04],\n",
       "       [5.7000e+00, 5.2658e+04],\n",
       "       [5.9000e+00, 6.3503e+04],\n",
       "       [5.5000e+00, 5.8740e+04],\n",
       "       [5.7000e+00, 6.4850e+04],\n",
       "       [5.9000e+00, 6.2550e+04],\n",
       "       [5.6000e+00, 5.6264e+04],\n",
       "       [5.7000e+00, 6.4084e+04],\n",
       "       [5.7000e+00, 6.5109e+04],\n",
       "       [5.3000e+00, 4.4407e+04],\n",
       "       [5.7000e+00, 5.8740e+04],\n",
       "       [5.6000e+00, 6.4342e+04],\n",
       "       [5.6000e+00, 5.8840e+04],\n",
       "       [5.9000e+00, 6.4601e+04],\n",
       "       [5.6000e+00, 5.9670e+04],\n",
       "       [5.5000e+00, 4.9138e+04],\n",
       "       [5.5000e+00, 5.1660e+04],\n",
       "       [5.8000e+00, 4.6856e+04],\n",
       "       [5.5000e+00, 5.4771e+04],\n",
       "       [5.7000e+00, 5.7057e+04],\n",
       "       [5.9000e+00, 6.1788e+04],\n",
       "       [6.0000e+00, 6.3548e+04],\n",
       "       [5.8000e+00, 5.8400e+04],\n",
       "       [5.6000e+00, 6.4319e+04],\n",
       "       [5.6000e+00, 5.4989e+04],\n",
       "       [5.7000e+00, 5.9579e+04],\n",
       "       [5.3000e+00, 4.8403e+04],\n",
       "       [5.7000e+00, 5.6409e+04],\n",
       "       [5.4000e+00, 5.6636e+04],\n",
       "       [5.8000e+00, 6.3353e+04],\n",
       "       [5.7000e+00, 6.2310e+04],\n",
       "       [5.5000e+00, 4.8285e+04],\n",
       "       [5.7000e+00, 5.8405e+04],\n",
       "       [5.6000e+00, 6.6079e+04],\n",
       "       [5.6000e+00, 5.2989e+04],\n",
       "       [5.8000e+00, 6.5145e+04],\n",
       "       [5.8000e+00, 6.1203e+04]])"
      ]
     },
     "execution_count": 5,
     "metadata": {},
     "output_type": "execute_result"
    }
   ],
   "source": [
    "array = dataframe.values \n",
    "array"
   ]
  },
  {
   "cell_type": "code",
   "execution_count": 6,
   "metadata": {},
   "outputs": [
    {
     "data": {
      "text/plain": [
       "array([[5.5],\n",
       "       [6. ],\n",
       "       [5.8],\n",
       "       [5.7],\n",
       "       [5.6],\n",
       "       [5.7],\n",
       "       [5.8],\n",
       "       [5.8],\n",
       "       [5.7],\n",
       "       [5.6],\n",
       "       [5.5],\n",
       "       [5.6],\n",
       "       [5.7],\n",
       "       [5.6],\n",
       "       [5.7],\n",
       "       [5.9],\n",
       "       [5.5],\n",
       "       [5.7],\n",
       "       [5.9],\n",
       "       [5.6],\n",
       "       [5.7],\n",
       "       [5.7],\n",
       "       [5.3],\n",
       "       [5.7],\n",
       "       [5.6],\n",
       "       [5.6],\n",
       "       [5.9],\n",
       "       [5.6],\n",
       "       [5.5],\n",
       "       [5.5],\n",
       "       [5.8],\n",
       "       [5.5],\n",
       "       [5.7],\n",
       "       [5.9],\n",
       "       [6. ],\n",
       "       [5.8],\n",
       "       [5.6],\n",
       "       [5.6],\n",
       "       [5.7],\n",
       "       [5.3],\n",
       "       [5.7],\n",
       "       [5.4],\n",
       "       [5.8],\n",
       "       [5.7],\n",
       "       [5.5],\n",
       "       [5.7],\n",
       "       [5.6],\n",
       "       [5.6],\n",
       "       [5.8],\n",
       "       [5.8]])"
      ]
     },
     "execution_count": 6,
     "metadata": {},
     "output_type": "execute_result"
    }
   ],
   "source": [
    "X = array[:,:-1] \n",
    "X"
   ]
  },
  {
   "cell_type": "code",
   "execution_count": 7,
   "metadata": {},
   "outputs": [
    {
     "data": {
      "text/plain": [
       "array([51251., 61911., 69413., 64564., 65453., 55928., 64179., 61897.,\n",
       "       50970., 54735., 57810., 51773., 56976., 55547., 52658., 63503.,\n",
       "       58740., 64850., 62550., 56264., 64084., 65109., 44407., 58740.,\n",
       "       64342., 58840., 64601., 59670., 49138., 51660., 46856., 54771.,\n",
       "       57057., 61788., 63548., 58400., 64319., 54989., 59579., 48403.,\n",
       "       56409., 56636., 63353., 62310., 48285., 58405., 66079., 52989.,\n",
       "       65145., 61203.])"
      ]
     },
     "execution_count": 7,
     "metadata": {},
     "output_type": "execute_result"
    }
   ],
   "source": [
    "Y = array[:,-1] \n",
    "Y"
   ]
  },
  {
   "cell_type": "code",
   "execution_count": 8,
   "metadata": {},
   "outputs": [],
   "source": [
    "min= MinMaxScaler(feature_range=(-1, 1)) \n",
    "scal= min.fit_transform(X)\n",
    "#rescaledX=scal.transform(X) "
   ]
  },
  {
   "cell_type": "code",
   "execution_count": 11,
   "metadata": {},
   "outputs": [
    {
     "name": "stdout",
     "output_type": "stream",
     "text": [
      "[[-0.429]\n",
      " [ 1.   ]\n",
      " [ 0.429]\n",
      " [ 0.143]\n",
      " [-0.143]]\n"
     ]
    }
   ],
   "source": [
    "np.set_printoptions(precision=3) \n",
    "print(scal[0:5,:])"
   ]
  }
 ],
 "metadata": {
  "kernelspec": {
   "display_name": "Python 3.10.6 64-bit",
   "language": "python",
   "name": "python3"
  },
  "language_info": {
   "codemirror_mode": {
    "name": "ipython",
    "version": 3
   },
   "file_extension": ".py",
   "mimetype": "text/x-python",
   "name": "python",
   "nbconvert_exporter": "python",
   "pygments_lexer": "ipython3",
   "version": "3.10.6"
  },
  "orig_nbformat": 4,
  "vscode": {
   "interpreter": {
    "hash": "2024125cf68aa79c355f936666901c985017d2cb8b27232436d6f5c475e02fbd"
   }
  }
 },
 "nbformat": 4,
 "nbformat_minor": 2
}
